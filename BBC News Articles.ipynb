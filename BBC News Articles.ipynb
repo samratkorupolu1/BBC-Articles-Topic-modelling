{
 "cells": [
  {
   "cell_type": "markdown",
   "metadata": {},
   "source": [
    "# <center>A3. BBC News Articles</center> "
   ]
  },
  {
   "cell_type": "markdown",
   "metadata": {},
   "source": [
    "<h2><center>Contents Legend</center></h2>"
   ]
  },
  {
   "cell_type": "markdown",
   "metadata": {},
   "source": [
    "<center><a href= \"#1.-Dependencies\">Dependencies</a></center>\n",
    "<center><a href= \"#2.-Pre-processing-Dataset\">Pre-processing Dataset</a></center>\n",
    "<center><a href= \"#3.-Normal-Cleaning\">Normal Cleaning</a></center>\n",
    "<center><a href= \"#4.-Term-Frequency-Filter\">Term Frequency Filter</a></center>\n",
    "<center><a href= \"#5.-Part-of-Speech-Filter\">Part of Speech Filter</a></center>\n",
    "<center><a href= \"#6.-LSI-LDA-1\">LSI LDA 1</a></center>\n",
    "<center><a href= \"#7.-LSI-LDA-2\">LSI LDA 2</a></center>\n",
    "<center><a href= \"#8.-LSI-LDA-3\">LSI LDA 3</a></center>\n",
    "<center><a href= \"#9.-RESULTS\">RESULTS</a></center>\n",
    "<center><a href= \"#10.-BONUS\">BONUS</a></center>"
   ]
  },
  {
   "cell_type": "markdown",
   "metadata": {},
   "source": [
    "## 1. Dependencies"
   ]
  },
  {
   "cell_type": "code",
   "execution_count": 36,
   "metadata": {},
   "outputs": [],
   "source": [
    "import nltk\n",
    "from nltk.corpus import stopwords\n",
    "import pandas as pd\n",
    "from string import punctuation\n",
    "import re\n",
    "from gensim.models import TfidfModel, LsiModel, CoherenceModel, LdaModel\n",
    "import numpy as np\n",
    "from gensim.corpora import Dictionary\n",
    "from textblob import TextBlob\n",
    "from wordcloud import WordCloud\n",
    "import matplotlib.pyplot as plt"
   ]
  },
  {
   "cell_type": "markdown",
   "metadata": {},
   "source": [
    "<a href= \"#A3.-BBC-News-Articles\">Back to Top</a>"
   ]
  },
  {
   "cell_type": "markdown",
   "metadata": {},
   "source": [
    "## 2. Pre-processing Dataset"
   ]
  },
  {
   "cell_type": "code",
   "execution_count": 5,
   "metadata": {},
   "outputs": [
    {
     "data": {
      "text/html": [
       "<div>\n",
       "<style scoped>\n",
       "    .dataframe tbody tr th:only-of-type {\n",
       "        vertical-align: middle;\n",
       "    }\n",
       "\n",
       "    .dataframe tbody tr th {\n",
       "        vertical-align: top;\n",
       "    }\n",
       "\n",
       "    .dataframe thead th {\n",
       "        text-align: right;\n",
       "    }\n",
       "</style>\n",
       "<table border=\"1\" class=\"dataframe\">\n",
       "  <thead>\n",
       "    <tr style=\"text-align: right;\">\n",
       "      <th></th>\n",
       "      <th>category</th>\n",
       "      <th>text</th>\n",
       "    </tr>\n",
       "  </thead>\n",
       "  <tbody>\n",
       "    <tr>\n",
       "      <td>count</td>\n",
       "      <td>2225</td>\n",
       "      <td>2225</td>\n",
       "    </tr>\n",
       "    <tr>\n",
       "      <td>unique</td>\n",
       "      <td>5</td>\n",
       "      <td>2126</td>\n",
       "    </tr>\n",
       "    <tr>\n",
       "      <td>top</td>\n",
       "      <td>sport</td>\n",
       "      <td>napster offers rented music to go music downlo...</td>\n",
       "    </tr>\n",
       "    <tr>\n",
       "      <td>freq</td>\n",
       "      <td>511</td>\n",
       "      <td>2</td>\n",
       "    </tr>\n",
       "  </tbody>\n",
       "</table>\n",
       "</div>"
      ],
      "text/plain": [
       "       category                                               text\n",
       "count      2225                                               2225\n",
       "unique        5                                               2126\n",
       "top       sport  napster offers rented music to go music downlo...\n",
       "freq        511                                                  2"
      ]
     },
     "execution_count": 5,
     "metadata": {},
     "output_type": "execute_result"
    }
   ],
   "source": [
    "bbc = pd.read_csv(\"BBC-articles.csv\")\n",
    "bbc.describe()"
   ]
  },
  {
   "cell_type": "code",
   "execution_count": 99,
   "metadata": {},
   "outputs": [],
   "source": [
    "# cleaner function : removes punctuation, fullstops, stopwords, len(words)>2 \n",
    "def corpuscleaner(inp):\n",
    "    inp = inp.strip(punctuation).lower()\n",
    "    inp = re.sub(r'[!?,.\\:;\\n\\t]+', '', inp)\n",
    "    word= nltk.tokenize.word_tokenize(inp)                                         # word tokenization\n",
    "    word = [x for x in word if x.isalpha()]                                        # filtering non-alphabet\n",
    "    word = [x for x in word if x not in stopwords.words('english') and len(x) > 2] # filtering stopwords & small words \n",
    "    return word"
   ]
  },
  {
   "cell_type": "markdown",
   "metadata": {},
   "source": [
    "<a href= \"#A3.-BBC-News-Articles\">Back to Top</a>"
   ]
  },
  {
   "cell_type": "markdown",
   "metadata": {},
   "source": [
    "## 3. Normal Cleaning"
   ]
  },
  {
   "cell_type": "code",
   "execution_count": 7,
   "metadata": {},
   "outputs": [],
   "source": [
    "# after normal cleaning of the text corpus (punctuation removal, stopword removal, etc.)\n",
    "def normal(bbc):\n",
    "    token = []\n",
    "    for i in bbc.index:\n",
    "        words = corpuscleaner(bbc.loc[i, 'text'])                        # calling basic function\n",
    "        wordnet = nltk.stem.WordNetLemmatizer()                          # Normalization using Lemmatization technique\n",
    "        lemmatized_words = [wordnet.lemmatize(w) for w in words]         # keeping lemmatized words\n",
    "        token.append(lemmatized_words)                                   # appending to empty token list        \n",
    "    my_dict = Dictionary(token)                                          # Converting words into a dictonary Tokenization \n",
    "    return my_dict,token "
   ]
  },
  {
   "cell_type": "markdown",
   "metadata": {},
   "source": [
    "<a href= \"#A3.-BBC-News-Articles\">Back to Top</a>"
   ]
  },
  {
   "cell_type": "markdown",
   "metadata": {},
   "source": [
    "## 4. Term Frequency Filter"
   ]
  },
  {
   "cell_type": "code",
   "execution_count": 8,
   "metadata": {},
   "outputs": [],
   "source": [
    "# with term frequency filter, to exclude the top 10% of the most frequent words and words that appear < 5 times\n",
    "def term_freq(bbc):\n",
    "    token = []\n",
    "    for i in bbc.index:\n",
    "        words = corpuscleaner(bbc.loc[i, 'text'])\n",
    "        token.append(words)                             # appended to token list\n",
    "    my_dict = Dictionary(token)                         # Converted words into a dictonary tokenization                                                        \n",
    "    my_dict.filter_extremes(no_below=5, no_above=0.90)  # excluded top 10% and words freq < 5 times\n",
    "    return my_dict,token"
   ]
  },
  {
   "cell_type": "markdown",
   "metadata": {},
   "source": [
    "<a href= \"#A3.-BBC-News-Articles\">Back to Top</a>"
   ]
  },
  {
   "cell_type": "markdown",
   "metadata": {},
   "source": [
    "## 5. Part of Speech Filter"
   ]
  },
  {
   "cell_type": "code",
   "execution_count": 9,
   "metadata": {},
   "outputs": [],
   "source": [
    "# part of speech filter to limit your TD-IDF matrix to just nouns \n",
    "def noun(bbc):\n",
    "    token = []\n",
    "    for i in bbc.index:\n",
    "        words = corpuscleaner(bbc.loc[i, 'text'])\n",
    "        altered_text=' '.join([w for w in words])\n",
    "        blob_object = TextBlob(altered_text)\n",
    "        #filtering the word list with nouns (NN: Noun, NNP: Proper Noun, NNS: Plural Noun, NNPS: Proper plural Noun )\n",
    "        word_list_nouns = [word for word,pos in blob_object.tags if (pos == 'NN' or pos == 'NNP' or pos == 'NNS' or pos == 'NNPS')]\n",
    "        token.append(word_list_nouns)                         #appended to token list\n",
    "    my_dict = Dictionary(token)                               #Converted words into a dictonary tokenization\n",
    "    return my_dict,token"
   ]
  },
  {
   "cell_type": "markdown",
   "metadata": {},
   "source": [
    "<a href= \"#A3.-BBC-News-Articles\">Back to Top</a>"
   ]
  },
  {
   "cell_type": "markdown",
   "metadata": {},
   "source": [
    "## coherence to find optimal no of topics for each model"
   ]
  },
  {
   "cell_type": "code",
   "execution_count": 10,
   "metadata": {},
   "outputs": [],
   "source": [
    "def maxCoherence(corpus, isLsi,my_dict,token):\n",
    "    coherence_values = []\n",
    "    model_list = []\n",
    "    min_topics, max_topics, step = 1, 10, 1\n",
    "    for i in range(min_topics, max_topics, step):\n",
    "        if (isLsi) :\n",
    "            model = LsiModel(corpus, id2word=my_dict, num_topics=i)\n",
    "        else:\n",
    "            model = LdaModel(corpus, id2word=my_dict, num_topics=i)\n",
    "        model_list.append(model)\n",
    "        coherencemodel = CoherenceModel(model=model, texts=token, dictionary=my_dict, coherence='c_v')\n",
    "        coherence_values.append(coherencemodel.get_coherence())\n",
    "    return coherence_values.index(max(coherence_values))"
   ]
  },
  {
   "cell_type": "markdown",
   "metadata": {},
   "source": [
    "## keywords"
   ]
  },
  {
   "cell_type": "code",
   "execution_count": 11,
   "metadata": {},
   "outputs": [],
   "source": [
    "def getkeywords(model, corpus): \n",
    "    # Init output\n",
    "    topickeyword_df = pd.DataFrame()\n",
    "\n",
    "    # Get main topic in each document\n",
    "    for i, row in enumerate(model[corpus]):\n",
    "        row = sorted(row, key=lambda x: (x[1]), reverse=True)\n",
    "        # Get the Dominant topic and Keywords for each document\n",
    "        for j, (topic_num, prop_topic) in enumerate(row):\n",
    "            if j == 0:                  # => dominant topic\n",
    "                wp = model.show_topic(topic_num, topn=5)\n",
    "                #topn = 5 gives top 5 kwywords \n",
    "                topic_keywords = \", \".join([word for word, prop in wp])\n",
    "                topickeyword_df = topickeyword_df.append(pd.Series([topic_keywords]), ignore_index=True)\n",
    "            else:\n",
    "                break\n",
    "    return(topickeyword_df)"
   ]
  },
  {
   "cell_type": "markdown",
   "metadata": {},
   "source": [
    "## model"
   ]
  },
  {
   "cell_type": "code",
   "execution_count": 12,
   "metadata": {},
   "outputs": [],
   "source": [
    "def models_method(clean_type):\n",
    "    \n",
    "    my_dict,token=clean_type(bbc)\n",
    "    dtm = [my_dict.doc2bow(doc) for doc in token] #convert a list of words to bag of words\n",
    "    tfidf = TfidfModel(dtm) # TF-IDF Vectorization for the document term matrix\n",
    "    tfidf = tfidf[dtm]\n",
    "\n",
    "    # Gensim: LSI\n",
    "    lsi_model = LsiModel(corpus=tfidf, id2word=my_dict, num_topics=maxCoherence(tfidf,isLsi=True,my_dict = my_dict,token = token))\n",
    "\n",
    "    # Gensim: LDA\n",
    "    lda_model = LdaModel(corpus=tfidf, id2word=my_dict, num_topics=maxCoherence(tfidf,isLsi=False,my_dict = my_dict,token = token))\n",
    "    return lsi_model,lda_model,tfidf"
   ]
  },
  {
   "cell_type": "markdown",
   "metadata": {},
   "source": [
    "## 6. LSI LDA 1"
   ]
  },
  {
   "cell_type": "code",
   "execution_count": 13,
   "metadata": {},
   "outputs": [],
   "source": [
    "lsi_model_1,lda_model_1,tfidf = models_method(normal)\n",
    "# add top 5 keywords for each model into the dataframe after vectorization \n",
    "bbc['LSI Keywords (normal)'] = getkeywords(model=lsi_model_1, corpus=tfidf)\n",
    "bbc['LDA Keywords (normal)'] = getkeywords(model=lda_model_1, corpus=tfidf)"
   ]
  },
  {
   "cell_type": "code",
   "execution_count": 14,
   "metadata": {},
   "outputs": [
    {
     "data": {
      "text/html": [
       "<div>\n",
       "<style scoped>\n",
       "    .dataframe tbody tr th:only-of-type {\n",
       "        vertical-align: middle;\n",
       "    }\n",
       "\n",
       "    .dataframe tbody tr th {\n",
       "        vertical-align: top;\n",
       "    }\n",
       "\n",
       "    .dataframe thead th {\n",
       "        text-align: right;\n",
       "    }\n",
       "</style>\n",
       "<table border=\"1\" class=\"dataframe\">\n",
       "  <thead>\n",
       "    <tr style=\"text-align: right;\">\n",
       "      <th></th>\n",
       "      <th>category</th>\n",
       "      <th>text</th>\n",
       "      <th>LSI Keywords (normal)</th>\n",
       "      <th>LDA Keywords (normal)</th>\n",
       "    </tr>\n",
       "  </thead>\n",
       "  <tbody>\n",
       "    <tr>\n",
       "      <td>0</td>\n",
       "      <td>tech</td>\n",
       "      <td>tv future in the hands of viewers with home th...</td>\n",
       "      <td>labour, election, blair, tax, brown</td>\n",
       "      <td>search, mobile, tax, labour, phone</td>\n",
       "    </tr>\n",
       "    <tr>\n",
       "      <td>1</td>\n",
       "      <td>business</td>\n",
       "      <td>worldcom boss  left books alone  former worldc...</td>\n",
       "      <td>labour, election, blair, tax, brown</td>\n",
       "      <td>game, award, blair, bush, film</td>\n",
       "    </tr>\n",
       "    <tr>\n",
       "      <td>2</td>\n",
       "      <td>sport</td>\n",
       "      <td>tigers wary of farrell  gamble  leicester say ...</td>\n",
       "      <td>labour, election, blair, tax, brown</td>\n",
       "      <td>search, mobile, tax, labour, phone</td>\n",
       "    </tr>\n",
       "    <tr>\n",
       "      <td>3</td>\n",
       "      <td>sport</td>\n",
       "      <td>yeading face newcastle in fa cup premiership s...</td>\n",
       "      <td>mobile, phone, film, award, best</td>\n",
       "      <td>conte, film, halifax, juninho, price</td>\n",
       "    </tr>\n",
       "    <tr>\n",
       "      <td>4</td>\n",
       "      <td>entertainment</td>\n",
       "      <td>ocean s twelve raids box office ocean s twelve...</td>\n",
       "      <td>labour, election, blair, tax, brown</td>\n",
       "      <td>conte, film, halifax, juninho, price</td>\n",
       "    </tr>\n",
       "    <tr>\n",
       "      <td>5</td>\n",
       "      <td>politics</td>\n",
       "      <td>howard hits back at mongrel jibe michael howar...</td>\n",
       "      <td>labour, election, blair, tax, brown</td>\n",
       "      <td>search, mobile, tax, labour, phone</td>\n",
       "    </tr>\n",
       "    <tr>\n",
       "      <td>6</td>\n",
       "      <td>politics</td>\n",
       "      <td>blair prepares to name poll date tony blair is...</td>\n",
       "      <td>labour, election, blair, tax, brown</td>\n",
       "      <td>search, mobile, tax, labour, phone</td>\n",
       "    </tr>\n",
       "    <tr>\n",
       "      <td>7</td>\n",
       "      <td>sport</td>\n",
       "      <td>henman hopes ended in dubai third seed tim hen...</td>\n",
       "      <td>mobile, phone, film, award, best</td>\n",
       "      <td>game, award, blair, bush, film</td>\n",
       "    </tr>\n",
       "    <tr>\n",
       "      <td>8</td>\n",
       "      <td>sport</td>\n",
       "      <td>wilkinson fit to face edinburgh england captai...</td>\n",
       "      <td>mobile, phone, film, award, best</td>\n",
       "      <td>game, award, blair, bush, film</td>\n",
       "    </tr>\n",
       "    <tr>\n",
       "      <td>9</td>\n",
       "      <td>entertainment</td>\n",
       "      <td>last star wars  not for children  the sixth an...</td>\n",
       "      <td>labour, election, blair, tax, brown</td>\n",
       "      <td>search, mobile, tax, labour, phone</td>\n",
       "    </tr>\n",
       "  </tbody>\n",
       "</table>\n",
       "</div>"
      ],
      "text/plain": [
       "        category                                               text  \\\n",
       "0           tech  tv future in the hands of viewers with home th...   \n",
       "1       business  worldcom boss  left books alone  former worldc...   \n",
       "2          sport  tigers wary of farrell  gamble  leicester say ...   \n",
       "3          sport  yeading face newcastle in fa cup premiership s...   \n",
       "4  entertainment  ocean s twelve raids box office ocean s twelve...   \n",
       "5       politics  howard hits back at mongrel jibe michael howar...   \n",
       "6       politics  blair prepares to name poll date tony blair is...   \n",
       "7          sport  henman hopes ended in dubai third seed tim hen...   \n",
       "8          sport  wilkinson fit to face edinburgh england captai...   \n",
       "9  entertainment  last star wars  not for children  the sixth an...   \n",
       "\n",
       "                 LSI Keywords (normal)                 LDA Keywords (normal)  \n",
       "0  labour, election, blair, tax, brown    search, mobile, tax, labour, phone  \n",
       "1  labour, election, blair, tax, brown        game, award, blair, bush, film  \n",
       "2  labour, election, blair, tax, brown    search, mobile, tax, labour, phone  \n",
       "3     mobile, phone, film, award, best  conte, film, halifax, juninho, price  \n",
       "4  labour, election, blair, tax, brown  conte, film, halifax, juninho, price  \n",
       "5  labour, election, blair, tax, brown    search, mobile, tax, labour, phone  \n",
       "6  labour, election, blair, tax, brown    search, mobile, tax, labour, phone  \n",
       "7     mobile, phone, film, award, best        game, award, blair, bush, film  \n",
       "8     mobile, phone, film, award, best        game, award, blair, bush, film  \n",
       "9  labour, election, blair, tax, brown    search, mobile, tax, labour, phone  "
      ]
     },
     "execution_count": 14,
     "metadata": {},
     "output_type": "execute_result"
    }
   ],
   "source": [
    "bbc.head(10)"
   ]
  },
  {
   "cell_type": "markdown",
   "metadata": {},
   "source": [
    "<a href= \"#A3.-BBC-News-Articles\">Back to Top</a>"
   ]
  },
  {
   "cell_type": "markdown",
   "metadata": {},
   "source": [
    "## 7. LSI LDA 2"
   ]
  },
  {
   "cell_type": "code",
   "execution_count": 15,
   "metadata": {},
   "outputs": [],
   "source": [
    "lsi_model_2,lda_model_2,tfidf = models_method(term_freq)\n",
    "# add top 5 keywords for each model into the dataframe after vectorization \n",
    "bbc['LSI Keywords (term_freq)'] = getkeywords(model=lsi_model_2, corpus=tfidf)\n",
    "bbc['LDA Keywords (term_freq)'] = getkeywords(model=lda_model_2, corpus=tfidf)"
   ]
  },
  {
   "cell_type": "code",
   "execution_count": 16,
   "metadata": {},
   "outputs": [
    {
     "data": {
      "text/html": [
       "<div>\n",
       "<style scoped>\n",
       "    .dataframe tbody tr th:only-of-type {\n",
       "        vertical-align: middle;\n",
       "    }\n",
       "\n",
       "    .dataframe tbody tr th {\n",
       "        vertical-align: top;\n",
       "    }\n",
       "\n",
       "    .dataframe thead th {\n",
       "        text-align: right;\n",
       "    }\n",
       "</style>\n",
       "<table border=\"1\" class=\"dataframe\">\n",
       "  <thead>\n",
       "    <tr style=\"text-align: right;\">\n",
       "      <th></th>\n",
       "      <th>category</th>\n",
       "      <th>text</th>\n",
       "      <th>LSI Keywords (normal)</th>\n",
       "      <th>LDA Keywords (normal)</th>\n",
       "      <th>LSI Keywords (term_freq)</th>\n",
       "      <th>LDA Keywords (term_freq)</th>\n",
       "    </tr>\n",
       "  </thead>\n",
       "  <tbody>\n",
       "    <tr>\n",
       "      <td>0</td>\n",
       "      <td>tech</td>\n",
       "      <td>tv future in the hands of viewers with home th...</td>\n",
       "      <td>labour, election, blair, tax, brown</td>\n",
       "      <td>search, mobile, tax, labour, phone</td>\n",
       "      <td>labour, blair, election, people, brown</td>\n",
       "      <td>mobile, music, phones, holmes, sales</td>\n",
       "    </tr>\n",
       "    <tr>\n",
       "      <td>1</td>\n",
       "      <td>business</td>\n",
       "      <td>worldcom boss  left books alone  former worldc...</td>\n",
       "      <td>labour, election, blair, tax, brown</td>\n",
       "      <td>game, award, blair, bush, film</td>\n",
       "      <td>yukos, russian, gazprom, court, oil</td>\n",
       "      <td>mobile, music, phones, holmes, sales</td>\n",
       "    </tr>\n",
       "    <tr>\n",
       "      <td>2</td>\n",
       "      <td>sport</td>\n",
       "      <td>tigers wary of farrell  gamble  leicester say ...</td>\n",
       "      <td>labour, election, blair, tax, brown</td>\n",
       "      <td>search, mobile, tax, labour, phone</td>\n",
       "      <td>labour, blair, election, people, brown</td>\n",
       "      <td>blair, labour, party, election, prime</td>\n",
       "    </tr>\n",
       "    <tr>\n",
       "      <td>3</td>\n",
       "      <td>sport</td>\n",
       "      <td>yeading face newcastle in fa cup premiership s...</td>\n",
       "      <td>mobile, phone, film, award, best</td>\n",
       "      <td>conte, film, halifax, juninho, price</td>\n",
       "      <td>labour, blair, election, people, brown</td>\n",
       "      <td>blair, labour, party, election, prime</td>\n",
       "    </tr>\n",
       "    <tr>\n",
       "      <td>4</td>\n",
       "      <td>entertainment</td>\n",
       "      <td>ocean s twelve raids box office ocean s twelve...</td>\n",
       "      <td>labour, election, blair, tax, brown</td>\n",
       "      <td>conte, film, halifax, juninho, price</td>\n",
       "      <td>labour, blair, election, people, brown</td>\n",
       "      <td>mobile, music, phones, holmes, sales</td>\n",
       "    </tr>\n",
       "    <tr>\n",
       "      <td>5</td>\n",
       "      <td>politics</td>\n",
       "      <td>howard hits back at mongrel jibe michael howar...</td>\n",
       "      <td>labour, election, blair, tax, brown</td>\n",
       "      <td>search, mobile, tax, labour, phone</td>\n",
       "      <td>labour, election, blair, brown, party</td>\n",
       "      <td>blair, labour, party, election, prime</td>\n",
       "    </tr>\n",
       "    <tr>\n",
       "      <td>6</td>\n",
       "      <td>politics</td>\n",
       "      <td>blair prepares to name poll date tony blair is...</td>\n",
       "      <td>labour, election, blair, tax, brown</td>\n",
       "      <td>search, mobile, tax, labour, phone</td>\n",
       "      <td>labour, election, blair, brown, party</td>\n",
       "      <td>blair, labour, party, election, prime</td>\n",
       "    </tr>\n",
       "    <tr>\n",
       "      <td>7</td>\n",
       "      <td>sport</td>\n",
       "      <td>henman hopes ended in dubai third seed tim hen...</td>\n",
       "      <td>mobile, phone, film, award, best</td>\n",
       "      <td>game, award, blair, bush, film</td>\n",
       "      <td>labour, blair, election, people, brown</td>\n",
       "      <td>mobile, music, phones, holmes, sales</td>\n",
       "    </tr>\n",
       "    <tr>\n",
       "      <td>8</td>\n",
       "      <td>sport</td>\n",
       "      <td>wilkinson fit to face edinburgh england captai...</td>\n",
       "      <td>mobile, phone, film, award, best</td>\n",
       "      <td>game, award, blair, bush, film</td>\n",
       "      <td>film, best, awards, england, award</td>\n",
       "      <td>blair, labour, party, election, prime</td>\n",
       "    </tr>\n",
       "    <tr>\n",
       "      <td>9</td>\n",
       "      <td>entertainment</td>\n",
       "      <td>last star wars  not for children  the sixth an...</td>\n",
       "      <td>labour, election, blair, tax, brown</td>\n",
       "      <td>search, mobile, tax, labour, phone</td>\n",
       "      <td>labour, blair, election, people, brown</td>\n",
       "      <td>blair, labour, party, election, prime</td>\n",
       "    </tr>\n",
       "  </tbody>\n",
       "</table>\n",
       "</div>"
      ],
      "text/plain": [
       "        category                                               text  \\\n",
       "0           tech  tv future in the hands of viewers with home th...   \n",
       "1       business  worldcom boss  left books alone  former worldc...   \n",
       "2          sport  tigers wary of farrell  gamble  leicester say ...   \n",
       "3          sport  yeading face newcastle in fa cup premiership s...   \n",
       "4  entertainment  ocean s twelve raids box office ocean s twelve...   \n",
       "5       politics  howard hits back at mongrel jibe michael howar...   \n",
       "6       politics  blair prepares to name poll date tony blair is...   \n",
       "7          sport  henman hopes ended in dubai third seed tim hen...   \n",
       "8          sport  wilkinson fit to face edinburgh england captai...   \n",
       "9  entertainment  last star wars  not for children  the sixth an...   \n",
       "\n",
       "                 LSI Keywords (normal)                 LDA Keywords (normal)  \\\n",
       "0  labour, election, blair, tax, brown    search, mobile, tax, labour, phone   \n",
       "1  labour, election, blair, tax, brown        game, award, blair, bush, film   \n",
       "2  labour, election, blair, tax, brown    search, mobile, tax, labour, phone   \n",
       "3     mobile, phone, film, award, best  conte, film, halifax, juninho, price   \n",
       "4  labour, election, blair, tax, brown  conte, film, halifax, juninho, price   \n",
       "5  labour, election, blair, tax, brown    search, mobile, tax, labour, phone   \n",
       "6  labour, election, blair, tax, brown    search, mobile, tax, labour, phone   \n",
       "7     mobile, phone, film, award, best        game, award, blair, bush, film   \n",
       "8     mobile, phone, film, award, best        game, award, blair, bush, film   \n",
       "9  labour, election, blair, tax, brown    search, mobile, tax, labour, phone   \n",
       "\n",
       "                 LSI Keywords (term_freq)  \\\n",
       "0  labour, blair, election, people, brown   \n",
       "1     yukos, russian, gazprom, court, oil   \n",
       "2  labour, blair, election, people, brown   \n",
       "3  labour, blair, election, people, brown   \n",
       "4  labour, blair, election, people, brown   \n",
       "5   labour, election, blair, brown, party   \n",
       "6   labour, election, blair, brown, party   \n",
       "7  labour, blair, election, people, brown   \n",
       "8      film, best, awards, england, award   \n",
       "9  labour, blair, election, people, brown   \n",
       "\n",
       "                LDA Keywords (term_freq)  \n",
       "0   mobile, music, phones, holmes, sales  \n",
       "1   mobile, music, phones, holmes, sales  \n",
       "2  blair, labour, party, election, prime  \n",
       "3  blair, labour, party, election, prime  \n",
       "4   mobile, music, phones, holmes, sales  \n",
       "5  blair, labour, party, election, prime  \n",
       "6  blair, labour, party, election, prime  \n",
       "7   mobile, music, phones, holmes, sales  \n",
       "8  blair, labour, party, election, prime  \n",
       "9  blair, labour, party, election, prime  "
      ]
     },
     "execution_count": 16,
     "metadata": {},
     "output_type": "execute_result"
    }
   ],
   "source": [
    "bbc.head(10)"
   ]
  },
  {
   "cell_type": "markdown",
   "metadata": {},
   "source": [
    "<a href= \"#A3.-BBC-News-Articles\">Back to Top</a>"
   ]
  },
  {
   "cell_type": "markdown",
   "metadata": {},
   "source": [
    "## 8. LSI LDA 3"
   ]
  },
  {
   "cell_type": "code",
   "execution_count": 17,
   "metadata": {},
   "outputs": [],
   "source": [
    "lsi_model_3,lda_model_3,tfidf = models_method(noun)\n",
    "# add top 5 keywords for each model into the dataframe after vectorization \n",
    "bbc['LSI Keywords (noun)'] = getkeywords(model=lsi_model_3, corpus=tfidf)\n",
    "bbc['LDA Keywords (noun)'] = getkeywords(model=lda_model_3, corpus=tfidf)"
   ]
  },
  {
   "cell_type": "code",
   "execution_count": 18,
   "metadata": {},
   "outputs": [
    {
     "data": {
      "text/html": [
       "<div>\n",
       "<style scoped>\n",
       "    .dataframe tbody tr th:only-of-type {\n",
       "        vertical-align: middle;\n",
       "    }\n",
       "\n",
       "    .dataframe tbody tr th {\n",
       "        vertical-align: top;\n",
       "    }\n",
       "\n",
       "    .dataframe thead th {\n",
       "        text-align: right;\n",
       "    }\n",
       "</style>\n",
       "<table border=\"1\" class=\"dataframe\">\n",
       "  <thead>\n",
       "    <tr style=\"text-align: right;\">\n",
       "      <th></th>\n",
       "      <th>category</th>\n",
       "      <th>text</th>\n",
       "      <th>LSI Keywords (normal)</th>\n",
       "      <th>LDA Keywords (normal)</th>\n",
       "      <th>LSI Keywords (term_freq)</th>\n",
       "      <th>LDA Keywords (term_freq)</th>\n",
       "      <th>LSI Keywords (noun)</th>\n",
       "      <th>LDA Keywords (noun)</th>\n",
       "    </tr>\n",
       "  </thead>\n",
       "  <tbody>\n",
       "    <tr>\n",
       "      <td>0</td>\n",
       "      <td>tech</td>\n",
       "      <td>tv future in the hands of viewers with home th...</td>\n",
       "      <td>labour, election, blair, tax, brown</td>\n",
       "      <td>search, mobile, tax, labour, phone</td>\n",
       "      <td>labour, blair, election, people, brown</td>\n",
       "      <td>mobile, music, phones, holmes, sales</td>\n",
       "      <td>election, blair, government, party, people</td>\n",
       "      <td>holmes, games, technology, players, game</td>\n",
       "    </tr>\n",
       "    <tr>\n",
       "      <td>1</td>\n",
       "      <td>business</td>\n",
       "      <td>worldcom boss  left books alone  former worldc...</td>\n",
       "      <td>labour, election, blair, tax, brown</td>\n",
       "      <td>game, award, blair, bush, film</td>\n",
       "      <td>yukos, russian, gazprom, court, oil</td>\n",
       "      <td>mobile, music, phones, holmes, sales</td>\n",
       "      <td>election, blair, government, party, people</td>\n",
       "      <td>dollar, exports, juninho, growth, spyware</td>\n",
       "    </tr>\n",
       "    <tr>\n",
       "      <td>2</td>\n",
       "      <td>sport</td>\n",
       "      <td>tigers wary of farrell  gamble  leicester say ...</td>\n",
       "      <td>labour, election, blair, tax, brown</td>\n",
       "      <td>search, mobile, tax, labour, phone</td>\n",
       "      <td>labour, blair, election, people, brown</td>\n",
       "      <td>blair, labour, party, election, prime</td>\n",
       "      <td>election, blair, government, party, people</td>\n",
       "      <td>blair, election, party, music, minister</td>\n",
       "    </tr>\n",
       "    <tr>\n",
       "      <td>3</td>\n",
       "      <td>sport</td>\n",
       "      <td>yeading face newcastle in fa cup premiership s...</td>\n",
       "      <td>mobile, phone, film, award, best</td>\n",
       "      <td>conte, film, halifax, juninho, price</td>\n",
       "      <td>labour, blair, election, people, brown</td>\n",
       "      <td>blair, labour, party, election, prime</td>\n",
       "      <td>election, blair, government, party, people</td>\n",
       "      <td>blair, election, party, music, minister</td>\n",
       "    </tr>\n",
       "    <tr>\n",
       "      <td>4</td>\n",
       "      <td>entertainment</td>\n",
       "      <td>ocean s twelve raids box office ocean s twelve...</td>\n",
       "      <td>labour, election, blair, tax, brown</td>\n",
       "      <td>conte, film, halifax, juninho, price</td>\n",
       "      <td>labour, blair, election, people, brown</td>\n",
       "      <td>mobile, music, phones, holmes, sales</td>\n",
       "      <td>election, blair, government, party, people</td>\n",
       "      <td>search, software, attacks, sales, google</td>\n",
       "    </tr>\n",
       "    <tr>\n",
       "      <td>5</td>\n",
       "      <td>politics</td>\n",
       "      <td>howard hits back at mongrel jibe michael howar...</td>\n",
       "      <td>labour, election, blair, tax, brown</td>\n",
       "      <td>search, mobile, tax, labour, phone</td>\n",
       "      <td>labour, election, blair, brown, party</td>\n",
       "      <td>blair, labour, party, election, prime</td>\n",
       "      <td>election, blair, government, party, people</td>\n",
       "      <td>film, sales, tax, party, blair</td>\n",
       "    </tr>\n",
       "    <tr>\n",
       "      <td>6</td>\n",
       "      <td>politics</td>\n",
       "      <td>blair prepares to name poll date tony blair is...</td>\n",
       "      <td>labour, election, blair, tax, brown</td>\n",
       "      <td>search, mobile, tax, labour, phone</td>\n",
       "      <td>labour, election, blair, brown, party</td>\n",
       "      <td>blair, labour, party, election, prime</td>\n",
       "      <td>election, blair, government, party, people</td>\n",
       "      <td>film, sales, tax, party, blair</td>\n",
       "    </tr>\n",
       "    <tr>\n",
       "      <td>7</td>\n",
       "      <td>sport</td>\n",
       "      <td>henman hopes ended in dubai third seed tim hen...</td>\n",
       "      <td>mobile, phone, film, award, best</td>\n",
       "      <td>game, award, blair, bush, film</td>\n",
       "      <td>labour, blair, election, people, brown</td>\n",
       "      <td>mobile, music, phones, holmes, sales</td>\n",
       "      <td>election, blair, government, party, people</td>\n",
       "      <td>holmes, games, technology, players, game</td>\n",
       "    </tr>\n",
       "    <tr>\n",
       "      <td>8</td>\n",
       "      <td>sport</td>\n",
       "      <td>wilkinson fit to face edinburgh england captai...</td>\n",
       "      <td>mobile, phone, film, award, best</td>\n",
       "      <td>game, award, blair, bush, film</td>\n",
       "      <td>film, best, awards, england, award</td>\n",
       "      <td>blair, labour, party, election, prime</td>\n",
       "      <td>election, blair, government, party, people</td>\n",
       "      <td>holmes, games, technology, players, game</td>\n",
       "    </tr>\n",
       "    <tr>\n",
       "      <td>9</td>\n",
       "      <td>entertainment</td>\n",
       "      <td>last star wars  not for children  the sixth an...</td>\n",
       "      <td>labour, election, blair, tax, brown</td>\n",
       "      <td>search, mobile, tax, labour, phone</td>\n",
       "      <td>labour, blair, election, people, brown</td>\n",
       "      <td>blair, labour, party, election, prime</td>\n",
       "      <td>election, blair, government, party, people</td>\n",
       "      <td>dollar, exports, juninho, growth, spyware</td>\n",
       "    </tr>\n",
       "  </tbody>\n",
       "</table>\n",
       "</div>"
      ],
      "text/plain": [
       "        category                                               text  \\\n",
       "0           tech  tv future in the hands of viewers with home th...   \n",
       "1       business  worldcom boss  left books alone  former worldc...   \n",
       "2          sport  tigers wary of farrell  gamble  leicester say ...   \n",
       "3          sport  yeading face newcastle in fa cup premiership s...   \n",
       "4  entertainment  ocean s twelve raids box office ocean s twelve...   \n",
       "5       politics  howard hits back at mongrel jibe michael howar...   \n",
       "6       politics  blair prepares to name poll date tony blair is...   \n",
       "7          sport  henman hopes ended in dubai third seed tim hen...   \n",
       "8          sport  wilkinson fit to face edinburgh england captai...   \n",
       "9  entertainment  last star wars  not for children  the sixth an...   \n",
       "\n",
       "                 LSI Keywords (normal)                 LDA Keywords (normal)  \\\n",
       "0  labour, election, blair, tax, brown    search, mobile, tax, labour, phone   \n",
       "1  labour, election, blair, tax, brown        game, award, blair, bush, film   \n",
       "2  labour, election, blair, tax, brown    search, mobile, tax, labour, phone   \n",
       "3     mobile, phone, film, award, best  conte, film, halifax, juninho, price   \n",
       "4  labour, election, blair, tax, brown  conte, film, halifax, juninho, price   \n",
       "5  labour, election, blair, tax, brown    search, mobile, tax, labour, phone   \n",
       "6  labour, election, blair, tax, brown    search, mobile, tax, labour, phone   \n",
       "7     mobile, phone, film, award, best        game, award, blair, bush, film   \n",
       "8     mobile, phone, film, award, best        game, award, blair, bush, film   \n",
       "9  labour, election, blair, tax, brown    search, mobile, tax, labour, phone   \n",
       "\n",
       "                 LSI Keywords (term_freq)  \\\n",
       "0  labour, blair, election, people, brown   \n",
       "1     yukos, russian, gazprom, court, oil   \n",
       "2  labour, blair, election, people, brown   \n",
       "3  labour, blair, election, people, brown   \n",
       "4  labour, blair, election, people, brown   \n",
       "5   labour, election, blair, brown, party   \n",
       "6   labour, election, blair, brown, party   \n",
       "7  labour, blair, election, people, brown   \n",
       "8      film, best, awards, england, award   \n",
       "9  labour, blair, election, people, brown   \n",
       "\n",
       "                LDA Keywords (term_freq)  \\\n",
       "0   mobile, music, phones, holmes, sales   \n",
       "1   mobile, music, phones, holmes, sales   \n",
       "2  blair, labour, party, election, prime   \n",
       "3  blair, labour, party, election, prime   \n",
       "4   mobile, music, phones, holmes, sales   \n",
       "5  blair, labour, party, election, prime   \n",
       "6  blair, labour, party, election, prime   \n",
       "7   mobile, music, phones, holmes, sales   \n",
       "8  blair, labour, party, election, prime   \n",
       "9  blair, labour, party, election, prime   \n",
       "\n",
       "                          LSI Keywords (noun)  \\\n",
       "0  election, blair, government, party, people   \n",
       "1  election, blair, government, party, people   \n",
       "2  election, blair, government, party, people   \n",
       "3  election, blair, government, party, people   \n",
       "4  election, blair, government, party, people   \n",
       "5  election, blair, government, party, people   \n",
       "6  election, blair, government, party, people   \n",
       "7  election, blair, government, party, people   \n",
       "8  election, blair, government, party, people   \n",
       "9  election, blair, government, party, people   \n",
       "\n",
       "                         LDA Keywords (noun)  \n",
       "0   holmes, games, technology, players, game  \n",
       "1  dollar, exports, juninho, growth, spyware  \n",
       "2    blair, election, party, music, minister  \n",
       "3    blair, election, party, music, minister  \n",
       "4   search, software, attacks, sales, google  \n",
       "5             film, sales, tax, party, blair  \n",
       "6             film, sales, tax, party, blair  \n",
       "7   holmes, games, technology, players, game  \n",
       "8   holmes, games, technology, players, game  \n",
       "9  dollar, exports, juninho, growth, spyware  "
      ]
     },
     "execution_count": 18,
     "metadata": {},
     "output_type": "execute_result"
    }
   ],
   "source": [
    "bbc.head(10)"
   ]
  },
  {
   "cell_type": "markdown",
   "metadata": {},
   "source": [
    "<a href= \"#A3.-BBC-News-Articles\">Back to Top</a>"
   ]
  },
  {
   "cell_type": "markdown",
   "metadata": {},
   "source": [
    "## 9. RESULTS"
   ]
  },
  {
   "cell_type": "code",
   "execution_count": 21,
   "metadata": {},
   "outputs": [],
   "source": [
    "#write to csv\n",
    "bbc.to_csv('BBC_Keywords.csv',index=False,encoding='utf-8')"
   ]
  },
  {
   "cell_type": "markdown",
   "metadata": {},
   "source": [
    "<a href= \"#A3.-BBC-News-Articles\">Back to Top</a>"
   ]
  },
  {
   "cell_type": "markdown",
   "metadata": {},
   "source": [
    "## 10. BONUS"
   ]
  },
  {
   "cell_type": "code",
   "execution_count": 98,
   "metadata": {},
   "outputs": [
    {
     "name": "stdout",
     "output_type": "stream",
     "text": [
      "LSI Keywords (normal)\n",
      "2\n",
      "{'mobile, phone, film, award, best', 'labour, election, blair, tax, brown'}\n",
      "\n",
      "LDA Keywords (normal)\n",
      "7\n",
      "{'casino, mobile, hsdpa, gambling, band', 'cabir, argonaut, mock, marvel, election', 'holmes, turkey, renault, job, johansson', 'phone, camera, mobile, music, bmw', 'conte, film, halifax, juninho, price', 'game, award, blair, bush, film', 'search, mobile, tax, labour, phone'}\n",
      "\n",
      "LSI Keywords (term_freq)\n",
      "8\n",
      "{'yukos, music, mobile, software, security', 'mobile, england, growth, phone, sales', 'labour, blair, election, people, brown', 'yukos, england, wales, kenteris, olympic', 'film, best, awards, england, award', 'labour, election, blair, brown, party', 'yukos, russian, gazprom, court, oil', 'film, mobile, best, economy, growth'}\n",
      "\n",
      "LDA Keywords (term_freq)\n",
      "3\n",
      "{'blair, labour, party, election, prime', 'mobile, music, phones, holmes, sales', 'search, market, dollar, growth, china'}\n",
      "\n",
      "LSI Keywords (noun)\n",
      "1\n",
      "{'election, blair, government, party, people'}\n",
      "\n",
      "LDA Keywords (noun)\n",
      "6\n",
      "{'film, sales, tax, party, blair', 'search, software, attacks, sales, google', 'dollar, exports, juninho, growth, spyware', 'blair, ferguson, oil, government, posters', 'holmes, games, technology, players, game', 'blair, election, party, music, minister'}\n"
     ]
    }
   ],
   "source": [
    "#TOPICS of each model \n",
    "print('LSI Keywords (normal)')\n",
    "print(len(set(bbc['LSI Keywords (normal)'])))\n",
    "print(set(bbc['LSI Keywords (normal)']))\n",
    "print()\n",
    "\n",
    "print('LDA Keywords (normal)')\n",
    "print(len(set(bbc['LDA Keywords (normal)'])))\n",
    "print(set(bbc['LDA Keywords (normal)']))\n",
    "print()\n",
    "\n",
    "print('LSI Keywords (term_freq)')\n",
    "print(len(set(bbc['LSI Keywords (term_freq)'])))\n",
    "print(set(bbc['LSI Keywords (term_freq)']))\n",
    "print()\n",
    "\n",
    "print('LDA Keywords (term_freq)')\n",
    "print(len(set(bbc['LDA Keywords (term_freq)'])))\n",
    "print(set(bbc['LDA Keywords (term_freq)']))\n",
    "print()\n",
    "\n",
    "print('LSI Keywords (noun)')\n",
    "print(len(set(bbc['LSI Keywords (noun)'])))\n",
    "print(set(bbc['LSI Keywords (noun)']))\n",
    "print()\n",
    "\n",
    "print('LDA Keywords (noun)')\n",
    "print(len(set(bbc['LDA Keywords (noun)'])))\n",
    "print(set(bbc['LDA Keywords (noun)']))"
   ]
  },
  {
   "cell_type": "markdown",
   "metadata": {},
   "source": [
    "## WordClouds of 6 columns"
   ]
  },
  {
   "cell_type": "code",
   "execution_count": 75,
   "metadata": {},
   "outputs": [
    {
     "data": {
      "image/png": "[encoded data removed]",
      "text/plain": [
       "<Figure size 432x288 with 1 Axes>"
      ]
     },
     "metadata": {
      "needs_background": "light"
     },
     "output_type": "display_data"
    },
    {
     "data": {
      "image/png": "[encoded data removed]",
      "text/plain": [
       "<Figure size 432x288 with 1 Axes>"
      ]
     },
     "metadata": {
      "needs_background": "light"
     },
     "output_type": "display_data"
    },
    {
     "data": {
      "image/png": "[encoded data removed]",
      "text/plain": [
       "<Figure size 432x288 with 1 Axes>"
      ]
     },
     "metadata": {
      "needs_background": "light"
     },
     "output_type": "display_data"
    },
    {
     "data": {
      "image/png": "[encoded data removed]",
      "text/plain": [
       "<Figure size 432x288 with 1 Axes>"
      ]
     },
     "metadata": {
      "needs_background": "light"
     },
     "output_type": "display_data"
    },
    {
     "data": {
      "image/png": "[encoded data removed]",
      "text/plain": [
       "<Figure size 432x288 with 1 Axes>"
      ]
     },
     "metadata": {
      "needs_background": "light"
     },
     "output_type": "display_data"
    },
    {
     "data": {
      "image/png": "[encoded data removed]",
      "text/plain": [
       "<Figure size 432x288 with 1 Axes>"
      ]
     },
     "metadata": {
      "needs_background": "light"
     },
     "output_type": "display_data"
    }
   ],
   "source": [
    "LSI_normal = ' '.join(bbc['LSI Keywords (normal)'])\n",
    "LDA_normal = ' '.join(bbc['LDA Keywords (normal)'])\n",
    "LSI_term   = ' '.join(bbc['LSI Keywords (term_freq)'])\n",
    "LDA_term   = ' '.join(bbc['LDA Keywords (term_freq)'])\n",
    "LSI_noun   = ' '.join(bbc['LSI Keywords (noun)'])\n",
    "LDA_noun   = ' '.join(bbc['LDA Keywords (noun)'])\n",
    "\n",
    "x = [LSI_normal, LDA_normal, LSI_term, LDA_term, LSI_noun, LDA_noun]\n",
    "j = 2\n",
    "for i in x:\n",
    "    wordcloud = WordCloud(width=500, height=500, background_color='white', collocations=False, min_font_size=12).generate(i)\n",
    "    plt.imshow(wordcloud)\n",
    "    plt.title('{}'.format(bbc.columns[j])) \n",
    "    plt.show()\n",
    "    j += 1"
   ]
  },
  {
   "cell_type": "markdown",
   "metadata": {},
   "source": [
    "## As per the above wordclouds, LDA normal seems to have worked best in this project"
   ]
  },
  {
   "cell_type": "markdown",
   "metadata": {},
   "source": [
    "# <center>THANK YOU</center> "
   ]
  },
  {
   "cell_type": "markdown",
   "metadata": {},
   "source": [
    "<a href= \"#A3.-BBC-News-Articles\">Back to Top</a>"
   ]
  }
 ],
 "metadata": {
  "kernelspec": {
   "display_name": "Python 3",
   "language": "python",
   "name": "python3"
  },
  "language_info": {
   "codemirror_mode": {
    "name": "ipython",
    "version": 3
   },
   "file_extension": ".py",
   "mimetype": "text/x-python",
   "name": "python",
   "nbconvert_exporter": "python",
   "pygments_lexer": "ipython3",
   "version": "3.7.4"
  }
 },
 "nbformat": 4,
 "nbformat_minor": 2
}
